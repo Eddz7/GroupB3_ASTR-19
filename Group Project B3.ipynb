{
 "cells": [
  {
   "cell_type": "markdown",
   "id": "76c6c481",
   "metadata": {},
   "source": [
    "### Group Project (B3) "
   ]
  },
  {
   "cell_type": "code",
   "execution_count": null,
   "id": "708270bd",
   "metadata": {},
   "outputs": [],
   "source": [
    "import numpy as np\n",
    "import scipy as sp"
   ]
  },
  {
   "cell_type": "code",
   "execution_count": null,
   "id": "d6151ede",
   "metadata": {},
   "outputs": [],
   "source": [
    "from matplotlib import pyplot as plt\n",
    "days=[]\n",
    "time=[]\n",
    "height=[]\n",
    "def osci():\n",
    "    \n",
    "     f = open(\"data.txt\", \"r\")\n",
    "     f.readline()\n",
    "     f.readline()\n",
    "     f.readline()\n",
    "     for x in f:\n",
    "         x.split()\n",
    "         p=x.split()\n",
    "         \n",
    "         days.append(int(p[0]))\n",
    "         time=p[1]\n",
    "         height.append(float(p[2]));\n",
    "        \n",
    "        \n",
    "        \n",
    "     plt.plot(days,height)\n",
    "     plt.xlabel('Days')\n",
    "     plt.ylabel('Height')\n",
    "\n",
    "      \n",
    "osci()"
   ]
  },
  {
   "cell_type": "code",
   "execution_count": null,
   "id": "c0de0b6e",
   "metadata": {},
   "outputs": [],
   "source": [
    "#plotting our data\n",
    "x = days\n",
    "sig = 0.25\n",
    "y = height\n",
    "y_err = np.full(len(days), sig)\n",
    "\n",
    "f = plt.figure(figsize=(5,5))\n",
    "plt.errorbar(x, y, yerr=y_err, fmt='o')\n",
    "plt.xlabel('Days')\n",
    "plt.ylabel('Height')"
   ]
  },
  {
   "cell_type": "code",
   "execution_count": null,
   "id": "3edb9607",
   "metadata": {},
   "outputs": [],
   "source": [
    "from scipy import optimize\n",
    "\n",
    "def f_line(x, a, b, c, d, e, f, g, h, i, j):\n",
    "    return (a * np.sin(b*x+c) * d * np.sin(e*x+f) * g * np.sin(h*x+i) + j)\n",
    "\n",
    "params, params_cov = optimize.curve_fit(f_line,x,y,sigma=y_err,p0 = [1, 1, 1, 1, 1, 1, 1, 1, 1, 1])\n",
    "\n",
    "a = params[0]\n",
    "b = params[1]\n",
    "c = params[2]\n",
    "d = params[3]\n",
    "e = params[4]\n",
    "f = params[5]\n",
    "g = params[6]\n",
    "h = params[7]\n",
    "i = params[8]\n",
    "j = params[9]\n",
    "\n",
    "x = np.array(x)\n",
    "y_fit = f_line(x, a, b, c, d, e, f, g, h, i, j)"
   ]
  },
  {
   "cell_type": "code",
   "execution_count": null,
   "id": "deae8419",
   "metadata": {},
   "outputs": [],
   "source": [
    "f = plt.figure(figsize=(5,5))\n",
    "plt.errorbar(x, y, yerr=y_err, fmt='o', label ='data')\n",
    "plt.plot(x,y_fit,label='fit')\n",
    "plt.xlabel('Days')\n",
    "plt.ylabel('Height')\n",
    "plt.legend(loc=0,frameon=False)"
   ]
  },
  {
   "cell_type": "code",
   "execution_count": null,
   "id": "2e30a1d9",
   "metadata": {},
   "outputs": [],
   "source": [
    "absy = []\n",
    "absy_fit = []\n",
    "for i in y:\n",
    "    absy.append(abs(i))\n",
    "for j in y_fit:\n",
    "    absy_fit.append(abs(j))\n",
    "absy_fit = np.array(absy_fit)\n",
    "residual = absy - absy_fit\n",
    "f = plt.figure(figsize=(5,5))\n",
    "plt.errorbar(x, y, yerr=y_err, fmt='o')\n",
    "plt.plot(x, residual + 2.5)\n",
    "plt.xlabel('days')\n",
    "plt.ylabel(\"height\")"
   ]
  },
  {
   "cell_type": "code",
   "execution_count": null,
   "id": "eb9e92b5",
   "metadata": {},
   "outputs": [],
   "source": [
    "plt.hist(residual, bins = 20)\n",
    "plt.xlabel('Height')\n",
    "plt.ylabel('# of Waves')\n",
    "mean = np.mean(residual)\n",
    "std = np.std(residual)\n",
    "print(f\"mean: {mean}\")\n",
    "print(f\"standard deviation: {std}\")"
   ]
  },
  {
   "cell_type": "code",
   "execution_count": null,
   "id": "b919eab3",
   "metadata": {},
   "outputs": [],
   "source": [
    "plt.hist(residual, bins = 20)\n",
    "tsunami = max(residual) + 2\n",
    "plt.hist(tsunami, bins = 1)\n",
    "plt.xlabel('Height')\n",
    "plt.ylabel('# of Waves')\n",
    "mean = np.mean(residual)\n",
    "std = np.std(residual)\n",
    "print(f\"Mean: {mean}\")\n",
    "print(f\"Standard deviation: {std}\")\n",
    "print(f\"The tsunami is {tsunami/std} standard deviations away from the mean\")"
   ]
  }
 ],
 "metadata": {
  "kernelspec": {
   "display_name": "Python 3 (ipykernel)",
   "language": "python",
   "name": "python3"
  },
  "language_info": {
   "codemirror_mode": {
    "name": "ipython",
    "version": 3
   },
   "file_extension": ".py",
   "mimetype": "text/x-python",
   "name": "python",
   "nbconvert_exporter": "python",
   "pygments_lexer": "ipython3",
   "version": "3.10.4"
  }
 },
 "nbformat": 4,
 "nbformat_minor": 5
}
