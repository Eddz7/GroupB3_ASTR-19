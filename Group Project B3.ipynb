{
 "cells": [
  {
   "cell_type": "code",
   "execution_count": null,
   "id": "708270bd",
   "metadata": {},
   "outputs": [],
   "source": [
    "import numpy as np\n",
    "import scipy as sp"
   ]
  },
  {
   "cell_type": "code",
   "execution_count": null,
   "id": "d6151ede",
   "metadata": {},
   "outputs": [],
   "source": [
    "from matplotlib import pyplot as plt\n",
    "days=[]\n",
    "time=[]\n",
    "height=[]\n",
    "def osci():\n",
    "    \n",
    "     f = open(\"data.txt\", \"r\")\n",
    "     f.readline()\n",
    "     f.readline()\n",
    "     f.readline()\n",
    "     for x in f:\n",
    "         x.split()\n",
    "         p=x.split()\n",
    "         \n",
    "         days.append(int(p[0]))\n",
    "         time=p[1]\n",
    "         height.append(float(p[2]));\n",
    "        \n",
    "        \n",
    "        \n",
    "     plt.plot(days,height)\n",
    "     plt.xlabel('Days')\n",
    "     plt.ylabel('Height')\n",
    "\n",
    "      \n",
    "osci()"
   ]
  },
  {
   "cell_type": "code",
   "execution_count": null,
   "id": "c0de0b6e",
   "metadata": {},
   "outputs": [],
   "source": [
    "x = days\n",
    "\n",
    "#make a complicated function\n",
    "sig = 0.25\n",
    "\n",
    "#define our noisy data\n",
    "y = height\n",
    "y_err = np.full(len(days), sig)\n",
    "\n",
    "f = plt.figure(figsize=(7,7))\n",
    "plt.errorbar(x, y, yerr=y_err, fmt='o')\n",
    "plt.xlabel('x')\n",
    "plt.ylabel('y')"
   ]
  },
  {
   "cell_type": "code",
   "execution_count": null,
   "id": "3edb9607",
   "metadata": {},
   "outputs": [],
   "source": [
    "from scipy import optimize\n",
    "\n",
    "def f_line(x, a, b, c, d, e, f, g, h, i, j):\n",
    "    return np.sin(b*x+c) + np.sin(e*x+f) + np.sin(h*x+i) + j\n",
    "\n",
    "params, params_cov = optimize.curve_fit(f_line,x,y,sigma=y_err,p0 = [1, 2, 3, 4, 5, 6, 7, 8, 9, 10])\n",
    "\n",
    "a = params[0]\n",
    "b = params[1]\n",
    "c = params[2]\n",
    "d = params[3]\n",
    "e = params[4]\n",
    "f = params[5]\n",
    "g = params[6]\n",
    "h = params[7]\n",
    "i = params[8]\n",
    "j = params[9]\n",
    "\n",
    "x = np.array(x)\n",
    "y_fit = f_line(x, a, b, c, d, e, f, g, h, i, j)"
   ]
  },
  {
   "cell_type": "code",
   "execution_count": null,
   "id": "deae8419",
   "metadata": {},
   "outputs": [],
   "source": [
    "f = plt.figure(figsize=(7,7))\n",
    "plt.errorbar(x, y, yerr=y_err, fmt='o', label ='data')\n",
    "plt.plot(x,y_fit,label='fit')\n",
    "plt.xlabel('x')\n",
    "plt.ylabel('y')\n",
    "plt.legend(loc=0,frameon=False)"
   ]
  },
  {
   "cell_type": "code",
   "execution_count": null,
   "id": "de029e5f",
   "metadata": {},
   "outputs": [],
   "source": [
    "plt.plot(residual, y)"
   ]
  },
  {
   "cell_type": "code",
   "execution_count": null,
   "id": "2e30a1d9",
   "metadata": {},
   "outputs": [],
   "source": [
    "residual = x - y_fit\n",
    "plt.hist(residual, bins = 20)\n",
    "mean = np.mean(residual)\n",
    "median = np.median(residual)\n",
    "std = np.std(residual)\n",
    "print(f\"mean: {mean}\")\n",
    "print(f\"median: {median}\")\n",
    "print(f\"standard deviation: {std}\")"
   ]
  },
  {
   "cell_type": "code",
   "execution_count": null,
   "id": "eb9e92b5",
   "metadata": {},
   "outputs": [],
   "source": []
  },
  {
   "cell_type": "code",
   "execution_count": null,
   "id": "b919eab3",
   "metadata": {},
   "outputs": [],
   "source": []
  },
  {
   "cell_type": "code",
   "execution_count": null,
   "id": "2d21b00b",
   "metadata": {},
   "outputs": [],
   "source": []
  },
  {
   "cell_type": "code",
   "execution_count": null,
   "id": "6b007a49",
   "metadata": {},
   "outputs": [],
   "source": []
  }
 ],
 "metadata": {
  "kernelspec": {
   "display_name": "Python 3 (ipykernel)",
   "language": "python",
   "name": "python3"
  },
  "language_info": {
   "codemirror_mode": {
    "name": "ipython",
    "version": 3
   },
   "file_extension": ".py",
   "mimetype": "text/x-python",
   "name": "python",
   "nbconvert_exporter": "python",
   "pygments_lexer": "ipython3",
   "version": "3.10.4"
  }
 },
 "nbformat": 4,
 "nbformat_minor": 5
}
